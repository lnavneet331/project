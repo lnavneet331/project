{
 "cells": [
  {
   "cell_type": "code",
   "execution_count": null,
   "metadata": {},
   "outputs": [],
   "source": [
    "%%capture\n",
    "# !pip install opendatasets\n",
    "# import opendatasets as od\n",
    "# od.download(\"https://www.kaggle.com/datasets/mahmoudima/mma-facial-expression\",\"/data\")"
   ]
  },
  {
   "cell_type": "code",
   "execution_count": null,
   "metadata": {},
   "outputs": [],
   "source": [
    "# !pip install opencv-python\n",
    "# !pip install imgaug\n",
    "# !pip install scikit-learn\n",
    "# !pip install mtcnn"
   ]
  },
  {
   "cell_type": "code",
   "execution_count": 22,
   "metadata": {},
   "outputs": [
    {
     "name": "stdout",
     "output_type": "stream",
     "text": [
      "Stored variables and their in-db values:\n",
      "augmented_test_images                      -> [array([[[ 13,  15,  17],\n",
      "        [ 28,  32,  38],\n",
      "augmented_test_labels                      -> ['angry', 'angry', 'angry', 'angry', 'angry', 'ang\n"
     ]
    }
   ],
   "source": [
    "%store"
   ]
  },
  {
   "cell_type": "code",
   "execution_count": null,
   "metadata": {},
   "outputs": [],
   "source": [
    "#make a function that calculates the files in a directory and subdirectories\n",
    "import os\n",
    "def count_files(path):\n",
    "    count = 0\n",
    "    for root, dirs, files in os.walk(path):\n",
    "        count += len(files)\n",
    "    return count"
   ]
  },
  {
   "cell_type": "code",
   "execution_count": null,
   "metadata": {},
   "outputs": [],
   "source": [
    "print(count_files(\"data/test\"), count_files(\"data/train\"), count_files(\"data/valid\"))"
   ]
  },
  {
   "cell_type": "code",
   "execution_count": null,
   "metadata": {},
   "outputs": [],
   "source": [
    "def load_dataset(folder_path):\n",
    "    images = []\n",
    "    labels = []\n",
    "    emotions = []\n",
    "    \n",
    "    for emotion in os.listdir(folder_path):\n",
    "        emotion_folder = os.path.join(folder_path, emotion)\n",
    "        if os.path.isdir(emotion_folder):\n",
    "            emotions.append(emotion)  # Store the emotion in the order encountered\n",
    "            for image_file in os.listdir(emotion_folder):\n",
    "                image_path = os.path.join(emotion_folder, image_file)\n",
    "                image = cv2.imread(image_path)\n",
    "                if image is not None:\n",
    "                    images.append(image)\n",
    "                    labels.append(emotion)\n",
    "    \n",
    "    return images, labels, emotions"
   ]
  },
  {
   "cell_type": "code",
   "execution_count": null,
   "metadata": {},
   "outputs": [],
   "source": [
    "import os\n",
    "import cv2\n",
    "\n",
    "# Example usage:\n",
    "train_folder = \"data/train\"\n",
    "validation_folder = \"data/valid\"\n",
    "test_folder = \"data/test\"\n",
    "\n",
    "train_images, train_labels, train_emotions = load_dataset(train_folder)\n",
    "%store train_images\n",
    "%store train_labels\n",
    "%store train_emotions"
   ]
  },
  {
   "cell_type": "code",
   "execution_count": null,
   "metadata": {},
   "outputs": [],
   "source": [
    "validation_images, validation_labels, validation_emotions = load_dataset(validation_folder)\n",
    "%store validation_images\n",
    "%store validation_labels\n",
    "%store validation_emotions"
   ]
  },
  {
   "cell_type": "code",
   "execution_count": null,
   "metadata": {},
   "outputs": [],
   "source": [
    "test_images, test_labels, test_emotions = load_dataset(test_folder)\n",
    "%store test_images\n",
    "%store test_labels         #save for later\n",
    "%store test_emotions"
   ]
  },
  {
   "cell_type": "code",
   "execution_count": null,
   "metadata": {},
   "outputs": [],
   "source": [
    "print(\"Train emotions order:\", train_emotions)\n",
    "print(\"Validation emotions order:\", validation_emotions)\n",
    "print(\"Test emotions order:\", test_emotions)"
   ]
  },
  {
   "cell_type": "code",
   "execution_count": null,
   "metadata": {},
   "outputs": [],
   "source": [
    "len(train_images), len(validation_images), len(test_images)"
   ]
  },
  {
   "cell_type": "code",
   "execution_count": 1,
   "metadata": {},
   "outputs": [
    {
     "name": "stdout",
     "output_type": "stream",
     "text": [
      "Unable to restore variable 'preprocessed_train_images', ignoring (use %store -d to forget!)\n",
      "The error was: <class 'KeyError'>\n",
      "Unable to restore variable 'preprocessed_validation_images', ignoring (use %store -d to forget!)\n",
      "The error was: <class 'KeyError'>\n"
     ]
    }
   ],
   "source": [
    "%store -r"
   ]
  },
  {
   "cell_type": "code",
   "execution_count": null,
   "metadata": {},
   "outputs": [],
   "source": [
    "import imgaug.augmenters as iaa\n",
    "\n",
    "def augment_dataset(images, labels):\n",
    "    augmented_images = []\n",
    "    augmented_labels = []\n",
    "\n",
    "    seq = iaa.Sequential([\n",
    "        iaa.Fliplr(0.5),  # flip horizontally with a 50% chance\n",
    "        iaa.Affine(rotate=(-10, 10)),  # rotate images by -10 to 10 degrees\n",
    "        iaa.GaussianBlur(sigma=(0, 1.0)),  # apply Gaussian blur with sigma between 0 and 1.0\n",
    "        iaa.AdditiveGaussianNoise(scale=(0, 0.05 * 255)),  # add Gaussian noise\n",
    "        iaa.Resize({\"height\": 64, \"width\": 64})  # resize images to 64x64 pixels\n",
    "    ], random_order=True)\n",
    "\n",
    "    for image, label in zip(images, labels):\n",
    "        augmented_images.extend(seq(images=[image] * 3))  # Augment each image 3 times for increased diversity\n",
    "        augmented_labels.extend([label] * 3)\n",
    "\n",
    "    return augmented_images, augmented_labels\n",
    "\n",
    "# Example usage:\n",
    "augmented_train_images, augmented_train_labels = augment_dataset(train_images, train_labels)\n",
    "augmented_test_images, augmented_test_labels = augment_dataset(test_images, test_labels)\n",
    "augmented_validation_images, augmented_validation_labels = augment_dataset(validation_images, validation_labels)    "
   ]
  },
  {
   "cell_type": "code",
   "execution_count": null,
   "metadata": {},
   "outputs": [],
   "source": [
    "# %store augmented_train_images\n",
    "# %store augmented_train_labels\n",
    "# %store augmented_test_images\n",
    "# %store augmented_test_labels\n",
    "# %store augmented_validation_images\n",
    "# %store augmented_validation_labels"
   ]
  },
  {
   "cell_type": "code",
   "execution_count": null,
   "metadata": {},
   "outputs": [],
   "source": [
    "import cv2\n",
    "import numpy as np\n",
    "from sklearn.model_selection import train_test_split\n",
    "\n",
    "def preprocess_images(images):\n",
    "    preprocessed_images = []\n",
    "    for image in images:\n",
    "        # Convert image to grayscale\n",
    "        gray = cv2.cvtColor(image, cv2.COLOR_BGR2GRAY)\n",
    "        # Resize image to a consistent size (e.g., 64x64)\n",
    "        resized = cv2.resize(gray, (64, 64))\n",
    "        # Normalize pixel values to [0, 1]\n",
    "        normalized = resized / 255.0\n",
    "        preprocessed_images.append(normalized)\n",
    "    \n",
    "    return np.array(preprocessed_images)\n",
    "\n",
    "# Preprocess augmented training images\n",
    "preprocessed_train_images = preprocess_images(augmented_train_images)\n",
    "# Preprocess validation and testing images\n",
    "preprocessed_validation_images = preprocess_images(augmented_validation_images)\n",
    "preprocessed_test_images = preprocess_images(augmented_test_images)\n",
    "\n",
    "\n",
    "# Split augmented training data into training and validation sets\n",
    "\"\"\"from sklearn.model_selection import train_test_split\n",
    "preprocessed_train_images = train_images\n",
    "preprocessed_validation_images = validation_images\n",
    "preprocessed_test_images = test_images\n",
    "augmented_train_labels = train_labels\"\"\"\n",
    "\n",
    "\n",
    "preprocessed_train_images, preprocessed_validation_images, train_labels, validation_labels = train_test_split(\n",
    "    preprocessed_train_images, augmented_train_labels, test_size=0.4, random_state=42\n",
    ")"
   ]
  },
  {
   "cell_type": "code",
   "execution_count": null,
   "metadata": {},
   "outputs": [],
   "source": [
    "%store train_labels validation_labels"
   ]
  },
  {
   "cell_type": "code",
   "execution_count": 3,
   "metadata": {},
   "outputs": [
    {
     "data": {
      "text/plain": [
       "(None, None, None, None, None, None)"
      ]
     },
     "execution_count": 3,
     "metadata": {},
     "output_type": "execute_result"
    }
   ],
   "source": [
    "augmented_test_images.clear(), augmented_test_labels.clear(), augmented_train_images.clear(), augmented_train_labels.clear(), augmented_validation_images.clear(), augmented_validation_labels.clear()"
   ]
  },
  {
   "cell_type": "code",
   "execution_count": null,
   "metadata": {},
   "outputs": [],
   "source": [
    "#%store preprocessed_train_images            #save for later\n",
    "#%store preprocessed_validation_images       #save for later\n",
    "\n",
    "import pickle\n",
    "\n",
    "# Save variables\n",
    "data = {\n",
    "    'preprocessed_train_images': preprocessed_train_images,\n",
    "    'preprocessed_validation_images': preprocessed_validation_images,\n",
    "    # Add more variables as needed\n",
    "}\n",
    "\n",
    "with open('variables.pkl', 'wb') as file:\n",
    "    pickle.dump(data, file)"
   ]
  },
  {
   "cell_type": "code",
   "execution_count": 1,
   "metadata": {},
   "outputs": [],
   "source": [
    "# Load variables\n",
    "import pickle\n",
    "\n",
    "with open('variables.pkl', 'rb') as file:\n",
    "    data = pickle.load(file)\n",
    "\n",
    "preprocessed_train_images = data['preprocessed_train_images']\n",
    "preprocessed_validation_images = data['preprocessed_validation_images']"
   ]
  },
  {
   "cell_type": "code",
   "execution_count": 2,
   "metadata": {},
   "outputs": [
    {
     "name": "stdout",
     "output_type": "stream",
     "text": [
      "Num GPUs Available:  1\n"
     ]
    },
    {
     "data": {
      "text/plain": [
       "[name: \"/device:CPU:0\"\n",
       " device_type: \"CPU\"\n",
       " memory_limit: 268435456\n",
       " locality {\n",
       " }\n",
       " incarnation: 12414693839787183805\n",
       " xla_global_id: -1,\n",
       " name: \"/device:GPU:0\"\n",
       " device_type: \"GPU\"\n",
       " memory_limit: 1721342363\n",
       " locality {\n",
       "   bus_id: 1\n",
       "   links {\n",
       "   }\n",
       " }\n",
       " incarnation: 4786615359290326983\n",
       " physical_device_desc: \"device: 0, name: NVIDIA GeForce RTX 3050 Ti Laptop GPU, pci bus id: 0000:01:00.0, compute capability: 8.6\"\n",
       " xla_global_id: 416903419]"
      ]
     },
     "execution_count": 2,
     "metadata": {},
     "output_type": "execute_result"
    }
   ],
   "source": [
    "import tensorflow as tf\n",
    "from tensorflow.python.client import device_lib\n",
    "\n",
    "print(\"Num GPUs Available: \", len(tf.config.list_physical_devices('GPU')))\n",
    "device_lib.list_local_devices()"
   ]
  },
  {
   "attachments": {},
   "cell_type": "markdown",
   "metadata": {},
   "source": [
    "Training"
   ]
  },
  {
   "cell_type": "code",
   "execution_count": 7,
   "metadata": {},
   "outputs": [],
   "source": [
    "tf.keras.backend.clear_session()"
   ]
  },
  {
   "cell_type": "code",
   "execution_count": 17,
   "metadata": {},
   "outputs": [],
   "source": [
    "%store -r train_labels validation_labels "
   ]
  },
  {
   "cell_type": "code",
   "execution_count": 21,
   "metadata": {},
   "outputs": [
    {
     "name": "stdout",
     "output_type": "stream",
     "text": [
      "(167342, 64, 64, 1)\n",
      "float64\n"
     ]
    },
    {
     "ename": "ValueError",
     "evalue": "Data cardinality is ambiguous:\n  x sizes: 167342\n  y sizes: 92968\nMake sure all arrays contain the same number of samples.",
     "output_type": "error",
     "traceback": [
      "\u001b[1;31m---------------------------------------------------------------------------\u001b[0m",
      "\u001b[1;31mValueError\u001b[0m                                Traceback (most recent call last)",
      "Cell \u001b[1;32mIn[21], line 55\u001b[0m\n\u001b[0;32m     53\u001b[0m \u001b[39m# Train the model with batch processing and keep track of metrics\u001b[39;00m\n\u001b[0;32m     54\u001b[0m \u001b[39mwith\u001b[39;00m tf\u001b[39m.\u001b[39mdevice(\u001b[39m'\u001b[39m\u001b[39m/cpu:0\u001b[39m\u001b[39m'\u001b[39m):\n\u001b[1;32m---> 55\u001b[0m     history \u001b[39m=\u001b[39m model\u001b[39m.\u001b[39;49mfit(train_images_reshaped, train_labels_encoded, batch_size\u001b[39m=\u001b[39;49mbatch_size, epochs\u001b[39m=\u001b[39;49m\u001b[39m20\u001b[39;49m, validation_data\u001b[39m=\u001b[39;49m(validation_images_reshaped, validation_labels_encoded))\n\u001b[0;32m     57\u001b[0m \u001b[39m# Plot the accuracy and loss curves\u001b[39;00m\n\u001b[0;32m     58\u001b[0m plt\u001b[39m.\u001b[39mfigure(figsize\u001b[39m=\u001b[39m(\u001b[39m12\u001b[39m, \u001b[39m4\u001b[39m))\n",
      "File \u001b[1;32mc:\\Users\\lnavn\\.conda\\envs\\femo1\\lib\\site-packages\\keras\\utils\\traceback_utils.py:70\u001b[0m, in \u001b[0;36mfilter_traceback.<locals>.error_handler\u001b[1;34m(*args, **kwargs)\u001b[0m\n\u001b[0;32m     67\u001b[0m     filtered_tb \u001b[39m=\u001b[39m _process_traceback_frames(e\u001b[39m.\u001b[39m__traceback__)\n\u001b[0;32m     68\u001b[0m     \u001b[39m# To get the full stack trace, call:\u001b[39;00m\n\u001b[0;32m     69\u001b[0m     \u001b[39m# `tf.debugging.disable_traceback_filtering()`\u001b[39;00m\n\u001b[1;32m---> 70\u001b[0m     \u001b[39mraise\u001b[39;00m e\u001b[39m.\u001b[39mwith_traceback(filtered_tb) \u001b[39mfrom\u001b[39;00m \u001b[39mNone\u001b[39;00m\n\u001b[0;32m     71\u001b[0m \u001b[39mfinally\u001b[39;00m:\n\u001b[0;32m     72\u001b[0m     \u001b[39mdel\u001b[39;00m filtered_tb\n",
      "File \u001b[1;32mc:\\Users\\lnavn\\.conda\\envs\\femo1\\lib\\site-packages\\keras\\engine\\data_adapter.py:1851\u001b[0m, in \u001b[0;36m_check_data_cardinality\u001b[1;34m(data)\u001b[0m\n\u001b[0;32m   1844\u001b[0m     msg \u001b[39m+\u001b[39m\u001b[39m=\u001b[39m \u001b[39m\"\u001b[39m\u001b[39m  \u001b[39m\u001b[39m{}\u001b[39;00m\u001b[39m sizes: \u001b[39m\u001b[39m{}\u001b[39;00m\u001b[39m\\n\u001b[39;00m\u001b[39m\"\u001b[39m\u001b[39m.\u001b[39mformat(\n\u001b[0;32m   1845\u001b[0m         label,\n\u001b[0;32m   1846\u001b[0m         \u001b[39m\"\u001b[39m\u001b[39m, \u001b[39m\u001b[39m\"\u001b[39m\u001b[39m.\u001b[39mjoin(\n\u001b[0;32m   1847\u001b[0m             \u001b[39mstr\u001b[39m(i\u001b[39m.\u001b[39mshape[\u001b[39m0\u001b[39m]) \u001b[39mfor\u001b[39;00m i \u001b[39min\u001b[39;00m tf\u001b[39m.\u001b[39mnest\u001b[39m.\u001b[39mflatten(single_data)\n\u001b[0;32m   1848\u001b[0m         ),\n\u001b[0;32m   1849\u001b[0m     )\n\u001b[0;32m   1850\u001b[0m msg \u001b[39m+\u001b[39m\u001b[39m=\u001b[39m \u001b[39m\"\u001b[39m\u001b[39mMake sure all arrays contain the same number of samples.\u001b[39m\u001b[39m\"\u001b[39m\n\u001b[1;32m-> 1851\u001b[0m \u001b[39mraise\u001b[39;00m \u001b[39mValueError\u001b[39;00m(msg)\n",
      "\u001b[1;31mValueError\u001b[0m: Data cardinality is ambiguous:\n  x sizes: 167342\n  y sizes: 92968\nMake sure all arrays contain the same number of samples."
     ]
    }
   ],
   "source": [
    "import tensorflow as tf\n",
    "from tensorflow.keras import layers, models\n",
    "import numpy as np\n",
    "import matplotlib.pyplot as plt\n",
    "\n",
    "# Define the CNN model architecture\n",
    "model = models.Sequential([\n",
    "    layers.Conv2D(32, (3, 3), activation='relu', input_shape=(64, 64, 1)),\n",
    "    layers.MaxPooling2D((2, 2)),\n",
    "    layers.Conv2D(64, (3, 3), activation='relu'),\n",
    "    layers.MaxPooling2D((2, 2)),\n",
    "    layers.Conv2D(128, (3, 3), activation='relu'),\n",
    "    layers.MaxPooling2D((2, 2)),\n",
    "    layers.Flatten(),\n",
    "    layers.Dense(128, activation='relu'),\n",
    "    layers.Dense(7, activation='softmax')\n",
    "])\n",
    "\n",
    "# Compile the model\n",
    "model.compile(optimizer='adam',\n",
    "              loss='sparse_categorical_crossentropy',\n",
    "              metrics=['accuracy'])\n",
    "\n",
    "# Reshape preprocessed images for CNN input\n",
    "train_images_reshaped = np.expand_dims(preprocessed_train_images, axis=-1)\n",
    "validation_images_reshaped = np.expand_dims(preprocessed_validation_images, axis=-1)\n",
    "\n",
    "# Verify the shape and data type\n",
    "print(train_images_reshaped.shape)  # Check the shape\n",
    "print(train_images_reshaped.dtype)  # Check the data type\n",
    "\n",
    "# Confirm the number of channels\n",
    "# If images are RGB, adjust the input shape accordingly\n",
    "\n",
    "# Define a mapping of emotions to numerical labels\n",
    "emotion_mapping = {\n",
    "    'angry': 0,\n",
    "    'disgust': 1,\n",
    "    'fear': 2,\n",
    "    'happy': 3,\n",
    "    'neutral': 4,\n",
    "    'sad': 5,\n",
    "    'surprise': 6\n",
    "}\n",
    "\n",
    "# Convert emotion labels to numerical labels\n",
    "train_labels_encoded = np.array([emotion_mapping[label] for label in train_labels])\n",
    "validation_labels_encoded = np.array([emotion_mapping[label] for label in validation_labels])\n",
    "\n",
    "# Set the batch size\n",
    "batch_size = 64\n",
    "\n",
    "# Train the model with batch processing and keep track of metrics\n",
    "with tf.device('/cpu:0'):\n",
    "    history = model.fit(train_images_reshaped, train_labels_encoded, batch_size=batch_size, epochs=20, validation_data=(validation_images_reshaped, validation_labels_encoded))\n",
    "\n",
    "# Plot the accuracy and loss curves\n",
    "plt.figure(figsize=(12, 4))\n",
    "plt.subplot(1, 2, 1)\n",
    "plt.plot(history.history['accuracy'], label='Training Accuracy')\n",
    "plt.plot(history.history['val_accuracy'], label='Validation Accuracy')\n",
    "plt.title('Accuracy')\n",
    "plt.xlabel('Epoch')\n",
    "plt.ylabel('Accuracy')\n",
    "plt.legend()\n",
    "\n",
    "plt.subplot(1, 2, 2)\n",
    "plt.plot(history.history['loss'], label='Training Loss')\n",
    "plt.plot(history.history['val_loss'], label='Validation Loss')\n",
    "plt.title('Loss')\n",
    "plt.xlabel('Epoch')\n",
    "plt.ylabel('Loss')\n",
    "plt.legend()\n",
    "\n",
    "plt.tight_layout()\n",
    "plt.show()"
   ]
  },
  {
   "attachments": {},
   "cell_type": "markdown",
   "metadata": {},
   "source": [
    "other solutions"
   ]
  },
  {
   "cell_type": "code",
   "execution_count": null,
   "metadata": {},
   "outputs": [],
   "source": [
    "import os\n",
    "os.environ[\"CUDA_VISIBLE_DEVICES\"] = \"\"\n",
    "\n",
    "import tensorflow as tf\n",
    "from tensorflow.keras import layers, models\n",
    "import numpy as np\n",
    "import matplotlib.pyplot as plt\n",
    "\n",
    "# Rest of your code ...\n",
    "\n",
    "# Define the CNN model architecture\n",
    "model = models.Sequential([\n",
    "    layers.Conv2D(32, (3, 3), activation='relu', input_shape=(64, 64, 1)),\n",
    "    layers.MaxPooling2D((2, 2)),\n",
    "    layers.Conv2D(64, (3, 3), activation='relu'),\n",
    "    layers.MaxPooling2D((2, 2)),\n",
    "    layers.Conv2D(128, (3, 3), activation='relu'),\n",
    "    layers.MaxPooling2D((2, 2)),\n",
    "    layers.Flatten(),\n",
    "    layers.Dense(128, activation='relu'),\n",
    "    layers.Dense(7, activation='softmax')\n",
    "])\n",
    "\n",
    "# Compile the model\n",
    "model.compile(optimizer='adam',\n",
    "              loss='sparse_categorical_crossentropy',\n",
    "              metrics=['accuracy'])\n",
    "# Reshape preprocessed images for CNN input\n",
    "train_images_reshaped = np.expand_dims(preprocessed_train_images, axis=-1)\n",
    "validation_images_reshaped = np.expand_dims(preprocessed_validation_images, axis=-1)\n",
    "\n",
    "# Verify the shape and data type\n",
    "print(train_images_reshaped.shape)  # Check the shape\n",
    "print(train_images_reshaped.dtype)  # Check the data type\n",
    "\n",
    "# Confirm the number of channels\n",
    "# If images are RGB, adjust the input shape accordingly\n",
    "\n",
    "# Define a mapping of emotions to numerical labels\n",
    "emotion_mapping = {\n",
    "    'angry': 0,\n",
    "    'disgust': 1,\n",
    "    'fear': 2,\n",
    "    'happy': 3,\n",
    "    'neutral': 4,\n",
    "    'sad': 5,\n",
    "    'surprise': 6\n",
    "}\n",
    "\n",
    "# Convert emotion labels to numerical labels\n",
    "train_labels_encoded = np.array([emotion_mapping[label] for label in train_labels])\n",
    "validation_labels_encoded = np.array([emotion_mapping[label] for label in validation_labels])\n",
    "\n",
    "# Set the batch size\n",
    "batch_size = 64\n",
    "\n",
    "# Train the model with batch processing and keep track of metrics\n",
    "history = model.fit(train_images_reshaped, train_labels_encoded, batch_size=batch_size, epochs=20)\n",
    "#, validation_data=(validation_images_reshaped, validation_labels_encoded))\n",
    "\n",
    "\n",
    "# Plot the accuracy and loss curves\n",
    "plt.figure(figsize=(12, 4))\n",
    "plt.subplot(1, 2, 1)\n",
    "plt.plot(history.history['accuracy'], label='Training Accuracy')\n",
    "plt.plot(history.history['val_accuracy'], label='Validation Accuracy')\n",
    "plt.title('Accuracy')\n",
    "plt.xlabel('Epoch')\n",
    "plt.ylabel('Accuracy')\n",
    "plt.legend()\n",
    "\n",
    "plt.subplot(1, 2, 2)\n",
    "plt.plot(history.history['loss'], label='Training Loss')\n",
    "plt.plot(history.history['val_loss'], label='Validation Loss')\n",
    "plt.title('Loss')\n",
    "plt.xlabel('Epoch')\n",
    "plt.ylabel('Loss')\n",
    "plt.legend()\n",
    "\n",
    "plt.tight_layout()\n",
    "plt.show()\n"
   ]
  },
  {
   "cell_type": "code",
   "execution_count": null,
   "metadata": {},
   "outputs": [],
   "source": [
    "# Save the trained model\n",
    "model.save('emotion_detection_model.h5')"
   ]
  },
  {
   "attachments": {},
   "cell_type": "markdown",
   "metadata": {},
   "source": [
    "<h4>To perform test on a single image</h4>"
   ]
  },
  {
   "cell_type": "code",
   "execution_count": null,
   "metadata": {},
   "outputs": [],
   "source": [
    "import tensorflow as tf\n",
    "from tensorflow.keras.models import load_model\n",
    "import cv2\n",
    "import numpy as np\n",
    "\n",
    "# Load the saved model\n",
    "model = load_model('emotion_detection_model.h5')\n",
    "\n",
    "# Load and preprocess the new image\n",
    "image = cv2.imread('fear.jpg', cv2.IMREAD_GRAYSCALE)\n",
    "image = cv2.resize(image, (64, 64))\n",
    "image = image.astype('float32') / 255.0\n",
    "image = np.expand_dims(image, axis=0)\n",
    "image = np.expand_dims(image, axis=-1)\n",
    "\n",
    "#show image\n",
    "plt.imshow(image[0,:,:,0], cmap='gray')\n",
    "plt.show()\n",
    "\n",
    "# Make predictions\n",
    "predictions = model.predict(image)\n",
    "predicted_class = np.argmax(predictions[0])\n",
    "\n",
    "# Print the predicted class and probability distribution\n",
    "# angry', 'disgust', 'fear', 'happy', 'neutral', 'sad', 'surprise'\n",
    "emotion_mapping = {\n",
    "    0: 'angry',\n",
    "    1: 'disgust',\n",
    "     2: 'fear',\n",
    "     3: 'happy',\n",
    "     4: 'neutral',\n",
    "     5: 'sad',\n",
    "     6: 'surprise'\n",
    "}\n",
    "\n",
    "predicted_emotion = emotion_mapping[predicted_class]\n",
    "print('Predicted Emotion:', predicted_emotion)\n",
    "print('Probability Distribution:', predictions[0])\n"
   ]
  },
  {
   "attachments": {},
   "cell_type": "markdown",
   "metadata": {},
   "source": [
    "<h4>To perform test on multiple images stored in a folder </h4>"
   ]
  },
  {
   "cell_type": "code",
   "execution_count": null,
   "metadata": {},
   "outputs": [],
   "source": [
    "import tensorflow as tf\n",
    "from tensorflow.keras.models import load_model\n",
    "import cv2\n",
    "import numpy as np\n",
    "import os\n",
    "from faces import extract_face\n",
    "import matplotlib.pyplot as plt\n",
    "\n",
    "# Load the saved model\n",
    "model = load_model('emotion_detection_model.h5')\n",
    "\n",
    "# Define the emotion mapping\n",
    "emotion_mapping = {\n",
    "    0: 'angry',\n",
    "    1: 'disgust',\n",
    "    2: 'fear',\n",
    "    3: 'happy',\n",
    "    4: 'neutral',\n",
    "    5: 'sad',\n",
    "    6: 'surprise'\n",
    "}\n",
    "\n",
    "# Folder path containing the test images\n",
    "test_folder = 'selfTest'\n",
    "\n",
    "# Iterate over each file in the test folder\n",
    "for filename in os.listdir(test_folder):\n",
    "    # Load and preprocess the image\n",
    "    image_path = os.path.join(test_folder, filename)\n",
    "    face = extract_face(image_path)\n",
    "\n",
    "    if face is not None:\n",
    "        # Preprocess the extracted face\n",
    "        face = cv2.cvtColor(face, cv2.COLOR_BGR2GRAY)\n",
    "        face = cv2.resize(face, (64, 64))\n",
    "        face = face.astype('float32') / 255.0\n",
    "        face = np.expand_dims(face, axis=0)\n",
    "        face = np.expand_dims(face, axis=-1)\n",
    "\n",
    "        # Make predictions\n",
    "        predictions = model.predict(face)\n",
    "        predicted_class = np.argmax(predictions[0])\n",
    "        predicted_emotion = emotion_mapping[predicted_class]\n",
    "\n",
    "        # Show the image\n",
    "        plt.imshow(face[0, :, :, 0], cmap='gray')\n",
    "        plt.show()\n",
    "\n",
    "        # Print the predicted emotion and probability distribution\n",
    "        print('File:', filename)\n",
    "        print('Predicted Emotion:', predicted_emotion)\n",
    "        print('Probability Distribution:', predictions[0])\n",
    "        print('------------------------')\n",
    "    else:\n",
    "        print('No face detected in', filename)\n"
   ]
  },
  {
   "attachments": {},
   "cell_type": "markdown",
   "metadata": {},
   "source": [
    "<h4>Test with camera</h4>"
   ]
  },
  {
   "cell_type": "code",
   "execution_count": null,
   "metadata": {},
   "outputs": [],
   "source": [
    "import tensorflow as tf\n",
    "from tensorflow.keras.models import load_model\n",
    "import cv2\n",
    "import numpy as np\n",
    "\n",
    "# Load the saved model\n",
    "model = load_model('emotion_detection_model.h5')\n",
    "\n",
    "# Define the emotion mapping\n",
    "emotion_mapping = {\n",
    "    0: 'angry',\n",
    "    1: 'disgust',\n",
    "    2: 'fear',\n",
    "    3: 'happy',\n",
    "    4: 'neutral',\n",
    "    5: 'sad',\n",
    "    6: 'surprise'\n",
    "}\n",
    "\n",
    "# Function to extract human face from image using HOG algorithm\n",
    "def extract_face(image):\n",
    "    # Load the pre-trained HOG face detector\n",
    "    face_cascade = cv2.CascadeClassifier(cv2.data.haarcascades + 'haarcascade_frontalface_default.xml')\n",
    "\n",
    "    # Convert the image to grayscale\n",
    "    gray = cv2.cvtColor(image, cv2.COLOR_BGR2GRAY)\n",
    "\n",
    "    # Detect faces in the image\n",
    "    faces = face_cascade.detectMultiScale(gray, scaleFactor=1.1, minNeighbors=5, minSize=(30, 30))\n",
    "\n",
    "    # Extract the first detected face (assuming only one face is present)\n",
    "    if len(faces) > 0:\n",
    "        (x, y, w, h) = faces[0]\n",
    "        face = image[y:y+h, x:x+w]\n",
    "        return (face, (x, y, w, h))\n",
    "\n",
    "    return (None, None)\n",
    "\n",
    "# Open the video capture\n",
    "cap = cv2.VideoCapture(0)\n",
    "\n",
    "while True:\n",
    "    # Read the frame from the video capture\n",
    "    ret, frame = cap.read()\n",
    "\n",
    "    # Extract the face from the frame\n",
    "    face, face_coords = extract_face(frame)\n",
    "\n",
    "    if face is not None:\n",
    "        # Preprocess the extracted face\n",
    "        face = cv2.cvtColor(face, cv2.COLOR_BGR2GRAY)\n",
    "        face = cv2.resize(face, (64, 64))\n",
    "        face = face.astype('float32') / 255.0\n",
    "        face = np.expand_dims(face, axis=0)\n",
    "        face = np.expand_dims(face, axis=-1)\n",
    "\n",
    "        # Make predictions\n",
    "        predictions = model.predict(face)\n",
    "        predicted_class = np.argmax(predictions[0])\n",
    "        predicted_emotion = emotion_mapping[predicted_class]\n",
    "\n",
    "        # Mark the predicted emotion on the frame\n",
    "        (x, y, w, h) = face_coords\n",
    "        cv2.rectangle(frame, (x, y), (x+w, y+h), (0, 255, 0), 2)\n",
    "        cv2.putText(frame, predicted_emotion, (x, y-10), cv2.FONT_HERSHEY_SIMPLEX, 0.9, (0, 255, 0), 2)\n",
    "\n",
    "    # Display the frame\n",
    "    cv2.imshow('Emotion Detection', frame)\n",
    "\n",
    "    # Break the loop if 'q' is pressed\n",
    "    if cv2.waitKey(1) & 0xFF == ord('q'):\n",
    "        break\n",
    "\n",
    "# Release the video capture\n",
    "cap.release()\n",
    "cv2.destroyAllWindows()\n"
   ]
  },
  {
   "attachments": {},
   "cell_type": "markdown",
   "metadata": {},
   "source": [
    "<h1>TODO</h1>\n",
    "<h4>Multiple faces in the same image</h4>\n",
    "<h4>Combine multiple images into one</h4>\n",
    "<h4>Try vj for face recognition</h4>\n",
    "blanks grid with random images, and spaces, random grid"
   ]
  },
  {
   "cell_type": "markdown",
   "metadata": {},
   "source": []
  }
 ],
 "metadata": {
  "kernelspec": {
   "display_name": "femo",
   "language": "python",
   "name": "python3"
  },
  "language_info": {
   "codemirror_mode": {
    "name": "ipython",
    "version": 3
   },
   "file_extension": ".py",
   "mimetype": "text/x-python",
   "name": "python",
   "nbconvert_exporter": "python",
   "pygments_lexer": "ipython3",
   "version": "3.9.0"
  },
  "orig_nbformat": 4
 },
 "nbformat": 4,
 "nbformat_minor": 2
}
